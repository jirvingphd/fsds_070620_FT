{
 "cells": [
  {
   "cell_type": "markdown",
   "metadata": {},
   "source": [
    "# Capstone Sharing Session"
   ]
  },
  {
   "cell_type": "markdown",
   "metadata": {},
   "source": [
    "- online-ds-ft-070620\n",
    "- 12/14/20"
   ]
  },
  {
   "cell_type": "markdown",
   "metadata": {},
   "source": [
    "## Presentations"
   ]
  },
  {
   "cell_type": "markdown",
   "metadata": {},
   "source": [
    "| # | Student | Capstone Title | Repo Link|\n",
    "| --- | --- | --- | --- |\n",
    "|1. | Jeff Spagnola | Deep Fake Image Detection | https://github.com/spags093/dsc-capstone-project-v2-onl01-dtsc-ft-070620|\n",
    "|2.| Avonlea Fisher | The 411 on 311 Calls | https://github.com/AvonleaFisher/Analyzing-NYC-311-Service-Requests|\n",
    "|3.| Miguel Santana | Customer Segmentation and Customer Churn Analysis |https://github.com/msantana269/Capstone|\n",
    "| 4. |Lauren Esser | Using News Headlines to Better Predict the Stock Market | https://github.com/lauren-esser/Better-Stock-Market-Prediction\n",
    "| 5.| Sung Bae | Product/Service Monitoring System | https://github.com/singsang2/capstone-twitter-analysis"
   ]
  },
  {
   "cell_type": "markdown",
   "metadata": {},
   "source": [
    "## Recording URL"
   ]
  },
  {
   "cell_type": "markdown",
   "metadata": {},
   "source": [
    "- https://youtu.be/Ac2npALgCtQ"
   ]
  },
  {
   "cell_type": "code",
   "execution_count": null,
   "metadata": {},
   "outputs": [],
   "source": []
  }
 ],
 "metadata": {
  "kernelspec": {
   "display_name": "learn-env",
   "language": "python",
   "name": "learn-env"
  },
  "language_info": {
   "codemirror_mode": {
    "name": "ipython",
    "version": 3
   },
   "file_extension": ".py",
   "mimetype": "text/x-python",
   "name": "python",
   "nbconvert_exporter": "python",
   "pygments_lexer": "ipython3",
   "version": "3.6.11"
  },
  "toc": {
   "base_numbering": 1,
   "nav_menu": {},
   "number_sections": false,
   "sideBar": true,
   "skip_h1_title": false,
   "title_cell": "Table of Contents",
   "title_sidebar": "Contents",
   "toc_cell": false,
   "toc_position": {
    "height": "calc(100% - 180px)",
    "left": "10px",
    "top": "150px",
    "width": "256px"
   },
   "toc_section_display": true,
   "toc_window_display": false
  }
 },
 "nbformat": 4,
 "nbformat_minor": 4
}
